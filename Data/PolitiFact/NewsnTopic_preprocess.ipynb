{
 "cells": [
  {
   "cell_type": "markdown",
   "metadata": {},
   "source": [
    "#### 下載 & 合併dataset"
   ]
  },
  {
   "cell_type": "code",
   "execution_count": 2,
   "metadata": {},
   "outputs": [
    {
     "name": "stderr",
     "output_type": "stream",
     "text": [
      "/home/blueee/miniconda3/envs/less4fd/lib/python3.10/site-packages/tqdm/auto.py:21: TqdmWarning: IProgress not found. Please update jupyter and ipywidgets. See https://ipywidgets.readthedocs.io/en/stable/user_install.html\n",
      "  from .autonotebook import tqdm as notebook_tqdm\n",
      "Generating train split: 100%|██████████| 381/381 [00:00<00:00, 8396.81 examples/s]\n",
      "Generating test split: 100%|██████████| 102/102 [00:00<00:00, 6233.88 examples/s]\n"
     ]
    },
    {
     "name": "stdout",
     "output_type": "stream",
     "text": [
      "資料已成功下載並合併，儲存為 news_final.xlsx\n"
     ]
    }
   ],
   "source": [
    "from datasets import load_dataset\n",
    "import pandas as pd\n",
    "\n",
    "# 從 Hugging Face 下載資料集\n",
    "dataset_name = \"LittleFish-Coder/Fake_News_PolitiFact\"\n",
    "dataset = load_dataset(dataset_name)\n",
    "\n",
    "train_df = pd.DataFrame(dataset['train'])\n",
    "test_df = pd.DataFrame(dataset['test'])\n",
    "# 合併 train 和 test 資料\n",
    "combined_df = pd.concat([train_df, test_df], ignore_index=True)\n",
    "\n",
    "output_file = \"news_final.xlsx\"\n",
    "combined_df.to_excel(output_file, index=False)\n",
    "print(f\"資料儲存為 {output_file}\")\n"
   ]
  },
  {
   "cell_type": "markdown",
   "metadata": {},
   "source": [
    "#### 將 news embedding 取出存為NumPy檔案"
   ]
  },
  {
   "cell_type": "code",
   "execution_count": null,
   "metadata": {},
   "outputs": [
    {
     "name": "stdout",
     "output_type": "stream",
     "text": [
      "'embeddings' 欄位已成功轉換並儲存為 Embeddings/news_embeddings.npy\n",
      "(483, 768)\n",
      "[[-0.15866926 -0.39268014  0.15829282 ... -0.00753877  0.69461912\n",
      "   0.24896514]\n",
      " [-0.6445325  -0.3464914  -0.7197054  ... -0.06940524  0.40790439\n",
      "  -0.02794858]\n",
      " [-0.25387311 -0.58382386 -0.55974215 ...  0.02732695  0.47765949\n",
      "   0.42899644]\n",
      " ...\n",
      " [ 0.11792978 -0.0274449   0.3196632  ... -0.12530024  0.49212429\n",
      "   0.03951206]\n",
      " [ 0.04220458  0.09530579 -0.54469723 ...  0.17066036  0.61123687\n",
      "  -0.17971039]\n",
      " [ 0.02826428 -0.65166068  0.29448634 ... -0.2016224   0.23490909\n",
      "   0.23264258]]\n"
     ]
    }
   ],
   "source": [
    "import pandas as pd\n",
    "import numpy as np\n",
    "\n",
    "input_file = \"news_final.xlsx\"\n",
    "df = pd.read_excel(input_file)\n",
    "\n",
    "# 將 'embeddings' 欄位中的內容轉換為 NumPy 陣列\n",
    "embeddings_list = df['embeddings'].apply(eval).tolist()\n",
    "embeddings_array = np.array(embeddings_list)\n",
    "\n",
    "output_file = \"Embeddings/news_embeddings.npy\"\n",
    "np.save(output_file, embeddings_array)\n",
    "\n",
    "print(f\"'embeddings' 儲存為 {output_file}\")\n",
    "print(embeddings_array.shape)\n",
    "print(embeddings_array)\n"
   ]
  },
  {
   "cell_type": "markdown",
   "metadata": {},
   "source": [
    "#### 整理news_final.xlsx檔案欄位"
   ]
  },
  {
   "cell_type": "code",
   "execution_count": 8,
   "metadata": {},
   "outputs": [
    {
     "name": "stdout",
     "output_type": "stream",
     "text": [
      "已成功處理檔案\n"
     ]
    }
   ],
   "source": [
    "import pandas as pd\n",
    "\n",
    "file = \"news_final.xlsx\"\n",
    "df = pd.read_excel(file)\n",
    "\n",
    "# 刪除 'embeddings' 欄位\n",
    "if 'embeddings' in df.columns:\n",
    "    df = df.drop(columns=['embeddings'])\n",
    "\n",
    "# 新增 'news_id' 欄位，從 0 開始到 len(df)-1\n",
    "if 'news_id' not in df.columns:\n",
    "    df.insert(0, 'news_id', range(len(df)))\n",
    "\n",
    "df.to_excel(file, index=False)\n",
    "\n",
    "print(f\"成功處理檔案\")\n"
   ]
  },
  {
   "cell_type": "markdown",
   "metadata": {},
   "source": [
    "#### Bertopic\n"
   ]
  },
  {
   "cell_type": "code",
   "execution_count": null,
   "metadata": {},
   "outputs": [],
   "source": [
    "import pandas as pd\n",
    "from bertopic import BERTopic\n",
    "import numpy as np\n",
    "import umap\n",
    "from hdbscan import HDBSCAN\n",
    "from sklearn.metrics.pairwise import cosine_similarity\n",
    "\n",
    "file_path = \"news_final.xlsx\"\n",
    "df = pd.read_excel(file_path)\n",
    "texts = df['text'].tolist()\n",
    "\n",
    "# 調整 UMAP 參數\n",
    "umap_model = umap.UMAP(n_neighbors=15, min_dist=0.1, n_components=5, metric='cosine')\n",
    "\n",
    "# 調整 HDBSCAN 參數\n",
    "hdbscan_model = HDBSCAN(min_cluster_size=2, metric='euclidean', cluster_selection_method='eom', prediction_data=True)\n",
    "\n",
    "# BERTopic 模型\n",
    "topic_model = BERTopic(umap_model=umap_model, hdbscan_model=hdbscan_model, calculate_probabilities=True, nr_topics=31, n_gram_range=(1, 2), verbose=True)\n",
    "topics, probs = topic_model.fit_transform(texts)\n",
    "embeddings = topic_model.embedding_model.embedding_model.encode(texts)\n",
    "df['topic'] = topics\n",
    "print(df['topic'])\n",
    "\n",
    "# 對未分配主題的文檔進行後處理\n",
    "for i, topic in enumerate(topics):\n",
    "    if topic == -1:\n",
    "        # 計算該文檔與所有0-29主題中心的相似度，並分配到最接近的主題\n",
    "        similarities = cosine_similarity([embeddings[i]], topic_model.topic_embeddings_[0:30])[0]\n",
    "        closest_topic = np.argmax(similarities)\n",
    "        topics[i] = closest_topic\n",
    "        df.at[i, 'topic'] = closest_topic  # 同步更新 DataFrame 的主題欄位\n",
    "\n",
    "df['topic'] = topics\n",
    "print(df['topic'])\n",
    "\n",
    "results = []\n",
    "for i, row in df.iterrows():\n",
    "    result = {\n",
    "        \"news_id\": row['news_id'],\n",
    "        \"text\": row['text'],\n",
    "        \"topic\": row['topic']\n",
    "    }\n",
    "    results.append(result)\n",
    "\n",
    "for result in results:\n",
    "    print(f\"新聞 ID: {result['news_id']}\")\n",
    "    print(f\"內容: {result['text'][:10]}...\")\n",
    "    print(f\"主題: {result['topic']}\\n\")\n",
    "\n",
    "# 獲取每個主題的主題詞和它們的權重\n",
    "topic_info = topic_model.get_topic_info()\n",
    "topic_details = {}\n",
    "for topic in range(30):\n",
    "    topic_details[topic] = topic_model.get_topic(topic)\n",
    "\n",
    "for topic, words in topic_details.items():\n",
    "    print(f\"\\n主題 {topic} 的主題詞和權重:\")\n",
    "    for word, weight in words:\n",
    "        print(f\"{word}: {weight:.4f}\")\n",
    "        # 只印到0~29主題\n",
    "        # 只會有31-1個主題，-1會被指定給其他相近的主題\n"
   ]
  },
  {
   "cell_type": "markdown",
   "metadata": {},
   "source": [
    "### BERT"
   ]
  },
  {
   "cell_type": "code",
   "execution_count": 2,
   "metadata": {},
   "outputs": [
    {
     "name": "stderr",
     "output_type": "stream",
     "text": [
      "/home/blueee/miniconda3/envs/less4fd/lib/python3.10/site-packages/tqdm/auto.py:21: TqdmWarning: IProgress not found. Please update jupyter and ipywidgets. See https://ipywidgets.readthedocs.io/en/stable/user_install.html\n",
      "  from .autonotebook import tqdm as notebook_tqdm\n"
     ]
    }
   ],
   "source": [
    "from transformers import AutoTokenizer, AutoModel\n",
    "import torch\n",
    "\n",
    "device = torch.device(\"cuda\" if torch.cuda.is_available() else \"cpu\")\n",
    "tokenizer = AutoTokenizer.from_pretrained(\"google-bert/bert-base-uncased\")\n",
    "model = AutoModel.from_pretrained(\"google-bert/bert-base-uncased\").to(device)\n"
   ]
  },
  {
   "cell_type": "markdown",
   "metadata": {},
   "source": [
    "### 利用BERT 生成Topic的加權嵌入，存為NumPy檔案"
   ]
  },
  {
   "cell_type": "code",
   "execution_count": 5,
   "metadata": {},
   "outputs": [
    {
     "name": "stdout",
     "output_type": "stream",
     "text": [
      "topic_embeddings已保存，形狀為: (30, 768)\n"
     ]
    }
   ],
   "source": [
    "import numpy as np\n",
    "\n",
    "def get_word_embedding(word):\n",
    "    inputs = tokenizer(word, return_tensors=\"pt\", padding=True).to(device)\n",
    "    outputs = model(**inputs)\n",
    "    # 取最後一層的輸出 (batch_size, seq_len, hidden_size)\n",
    "    last_hidden_state = outputs.last_hidden_state\n",
    "    # 取 [CLS] 位置的詞嵌入\n",
    "    word_embedding = last_hidden_state[:, 0, :].squeeze(0).detach().cpu().numpy()\n",
    "\n",
    "    return word_embedding\n",
    "\n",
    "topic_embeddings = []\n",
    "\n",
    "for topic in range(30):\n",
    "    # 獲取主題詞和它們的權重\n",
    "    topic_words = topic_model.get_topic(topic)\n",
    "    \n",
    "    # 計算主題的加權嵌入\n",
    "    topic_embedding = np.zeros(768)\n",
    "    for word, weight in topic_words:\n",
    "        word_embedding = get_word_embedding(word)\n",
    "        weighted_embedding = word_embedding * weight  # 加權嵌入\n",
    "        topic_embedding += weighted_embedding\n",
    "    \n",
    "    topic_embeddings.append(topic_embedding)\n",
    "\n",
    "# 組合為矩陣\n",
    "topic_embeddings_matrix = np.vstack(topic_embeddings)\n",
    "np.save(\"Embeddings/topic_embeddings_30.npy\", topic_embeddings_matrix)\n",
    "\n",
    "print(f\"topic_embeddings已保存，形狀為: {topic_embeddings_matrix.shape}\")\n"
   ]
  },
  {
   "cell_type": "markdown",
   "metadata": {},
   "source": [
    "#### 存news2topic.xlsx檔案"
   ]
  },
  {
   "cell_type": "code",
   "execution_count": 7,
   "metadata": {},
   "outputs": [
    {
     "name": "stdout",
     "output_type": "stream",
     "text": [
      "結果已儲存為 news2topic_30.xlsx\n"
     ]
    }
   ],
   "source": [
    "df['topic'] = topics\n",
    "news2topic_df = df[['news_id', 'topic']].rename(columns={'topic': 'topic_id'})\n",
    "\n",
    "file_name = \"news2topic_30.xlsx\"\n",
    "output_file = \"graph/edges/\" + file_name \n",
    "news2topic_df.to_excel(output_file, index=False)\n",
    "\n",
    "print(f\"結果已存為 {file_name}\")"
   ]
  }
 ],
 "metadata": {
  "kernelspec": {
   "display_name": "less4fd",
   "language": "python",
   "name": "python3"
  },
  "language_info": {
   "codemirror_mode": {
    "name": "ipython",
    "version": 3
   },
   "file_extension": ".py",
   "mimetype": "text/x-python",
   "name": "python",
   "nbconvert_exporter": "python",
   "pygments_lexer": "ipython3",
   "version": "3.10.16"
  }
 },
 "nbformat": 4,
 "nbformat_minor": 2
}
